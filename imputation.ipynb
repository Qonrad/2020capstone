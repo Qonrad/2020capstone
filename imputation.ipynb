{
 "cells": [
  {
   "cell_type": "code",
   "execution_count": 2,
   "metadata": {
    "scrolled": true
   },
   "outputs": [
    {
     "name": "stderr",
     "output_type": "stream",
     "text": [
      "/home/rad/.local/lib/python3.6/site-packages/sklearn/impute/_iterative.py:638: ConvergenceWarning: [IterativeImputer] Early stopping criterion not reached.\n",
      "  \" reached.\", ConvergenceWarning)\n"
     ]
    }
   ],
   "source": [
    "import pandas as pd\n",
    "import numpy as np\n",
    "\n",
    "# pd.set_option('display.max_rows', None)\n",
    "# pd.set_option('display.max_columns', None)\n",
    "# pd.set_option('display.width', None)\n",
    "# pd.set_option('display.max_colwidth', None)\n",
    "\n",
    "def is_numeric(x):\n",
    "    if np.isreal(x):\n",
    "        return True\n",
    "    else:\n",
    "        return False\n",
    "\n",
    "df = pd.read_csv(\"./priori_metrics.csv\")\n",
    "df = df.replace(r'^\\s*$', np.nan, regex=True)\n",
    "df['DKEFSCWI_10'] = pd.to_numeric(df['DKEFSCWI_10'])\n",
    "df['DKEFSCWI_11'] = pd.to_numeric(df['DKEFSCWI_11'])\n",
    "df['DKEFSCWI_12'] = pd.to_numeric(df['DKEFSCWI_12'])\n",
    "non_floats = []\n",
    "for col in df:\n",
    "    if df[col].dtypes != \"float64\":\n",
    "        if col == 'ID':\n",
    "            continue\n",
    "        non_floats.append(col)\n",
    "df = df.drop(columns=non_floats)\n",
    "df.set_index('ID', inplace=True)\n",
    "dfarray = df.to_numpy()\n",
    "\n",
    "from sklearn.experimental import enable_iterative_imputer\n",
    "from sklearn.impute import IterativeImputer\n",
    "imp = IterativeImputer(max_iter=10, random_state=0)\n",
    "dfarray = imp.fit_transform(dfarray)\n",
    "\n",
    "df = pd.DataFrame(data=dfarray, index= df.index, columns=df.columns)\n",
    "\n",
    "df.to_csv(\"./imputed_numerical_psychometrics.csv\")\n"
   ]
  }
 ],
 "metadata": {
  "kernelspec": {
   "display_name": "Python 3",
   "language": "python",
   "name": "python3"
  },
  "language_info": {
   "codemirror_mode": {
    "name": "ipython",
    "version": 3
   },
   "file_extension": ".py",
   "mimetype": "text/x-python",
   "name": "python",
   "nbconvert_exporter": "python",
   "pygments_lexer": "ipython3",
   "version": "3.6.9"
  }
 },
 "nbformat": 4,
 "nbformat_minor": 2
}
