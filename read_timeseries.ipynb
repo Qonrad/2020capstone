{
 "cells": [
  {
   "cell_type": "code",
   "execution_count": 1,
   "metadata": {
    "scrolled": false
   },
   "outputs": [
    {
     "data": {
      "text/plain": [
       "'./timeseries_CSVs/ROI_Subject001_Session001.csv'"
      ]
     },
     "metadata": {},
     "output_type": "display_data"
    }
   ],
   "source": [
    "from scipy.io import loadmat\n",
    "import os\n",
    "import pandas as pd\n",
    "import numpy as np\n",
    "from IPython.core.display import display, HTML\n",
    "\n",
    "path = './timeseries'\n",
    "files = []\n",
    "# r=root, d=directories, f = files\n",
    "for r, d, f in os.walk(path):\n",
    "    for file in f:\n",
    "        if 'ROI_Subject' in file:\n",
    "            files.append(os.path.join(r, file))\n",
    "i = 0\n",
    "a_priori_list = [186, 395, 185, 187, 188, 189, 190, 191, 394, 396, 397, 398, 343, 130, 342, 129, 131, 341, 340, 136, 135, 137, 402, 408, 403, 207, 206, 399, 192, 193]\n",
    "for i in range(len(files)):\n",
    "    whole = loadmat(files[i])\n",
    "    names = whole['names'][0][3:]\n",
    "    for name in range(len(names)):\n",
    "        names[name] = names[name][0]\n",
    "        if \",\" in names[name]:\n",
    "            names[name] = names[name].split(\" \")[0]\n",
    "#         print(name, names[name])\n",
    "#     display(names)\n",
    "    data = whole['data'][0][3:]\n",
    "    for roi in range(len(data)):\n",
    "        data[roi].shape = len(data[roi])\n",
    "    \n",
    "    \n",
    "    data = data[a_priori_list]\n",
    "    names = names[a_priori_list]\n",
    "    \n",
    "#     display(data)\n",
    "#     display(names)\n",
    "    \n",
    "    data = np.asarray(list(data))\n",
    "    data = np.transpose(data)\n",
    "    \n",
    "#     display(data.shape)\n",
    "    names = list(names)\n",
    "    series = pd.DataFrame(data, columns=names)\n",
    "#     display(series)\n",
    "    writename = \"./timeseries_CSVs/\" + files[i].split('/')[-1][0:-4] + \".csv\"\n",
    "    display(writename)\n",
    "    series.to_csv(writename, index=False)\n",
    "    break\n",
    "# test = pd.read_csv(writename)\n",
    "# display(test.columns)"
   ]
  }
 ],
 "metadata": {
  "kernelspec": {
   "display_name": "Python 3",
   "language": "python",
   "name": "python3"
  },
  "language_info": {
   "codemirror_mode": {
    "name": "ipython",
    "version": 3
   },
   "file_extension": ".py",
   "mimetype": "text/x-python",
   "name": "python",
   "nbconvert_exporter": "python",
   "pygments_lexer": "ipython3",
   "version": "3.7.6"
  }
 },
 "nbformat": 4,
 "nbformat_minor": 4
}
