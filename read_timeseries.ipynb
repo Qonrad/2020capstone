{
 "cells": [
  {
   "cell_type": "code",
   "execution_count": 42,
   "metadata": {
    "scrolled": false
   },
   "outputs": [
    {
     "data": {
      "text/plain": [
       "'networks.DefaultMode.MPFC'"
      ]
     },
     "metadata": {},
     "output_type": "display_data"
    },
    {
     "data": {
      "text/plain": [
       "'networks.DefaultMode.LP'"
      ]
     },
     "metadata": {},
     "output_type": "display_data"
    },
    {
     "data": {
      "text/plain": [
       "'networks.DefaultMode.LP'"
      ]
     },
     "metadata": {},
     "output_type": "display_data"
    },
    {
     "data": {
      "text/plain": [
       "'networks.DefaultMode.PCC'"
      ]
     },
     "metadata": {},
     "output_type": "display_data"
    },
    {
     "data": {
      "text/plain": [
       "'networks.SensoriMotor.Lateral'"
      ]
     },
     "metadata": {},
     "output_type": "display_data"
    },
    {
     "data": {
      "text/plain": [
       "'networks.SensoriMotor.Lateral'"
      ]
     },
     "metadata": {},
     "output_type": "display_data"
    },
    {
     "data": {
      "text/plain": [
       "'networks.SensoriMotor.Superior'"
      ]
     },
     "metadata": {},
     "output_type": "display_data"
    },
    {
     "data": {
      "text/plain": [
       "'networks.Visual.Medial'"
      ]
     },
     "metadata": {},
     "output_type": "display_data"
    },
    {
     "data": {
      "text/plain": [
       "'networks.Visual.Occipital'"
      ]
     },
     "metadata": {},
     "output_type": "display_data"
    },
    {
     "data": {
      "text/plain": [
       "'networks.Visual.Lateral'"
      ]
     },
     "metadata": {},
     "output_type": "display_data"
    },
    {
     "data": {
      "text/plain": [
       "'networks.Visual.Lateral'"
      ]
     },
     "metadata": {},
     "output_type": "display_data"
    },
    {
     "data": {
      "text/plain": [
       "'networks.Salience.ACC'"
      ]
     },
     "metadata": {},
     "output_type": "display_data"
    },
    {
     "data": {
      "text/plain": [
       "'networks.Salience.AInsula'"
      ]
     },
     "metadata": {},
     "output_type": "display_data"
    },
    {
     "data": {
      "text/plain": [
       "'networks.Salience.AInsula'"
      ]
     },
     "metadata": {},
     "output_type": "display_data"
    },
    {
     "data": {
      "text/plain": [
       "'networks.Salience.RPFC'"
      ]
     },
     "metadata": {},
     "output_type": "display_data"
    },
    {
     "data": {
      "text/plain": [
       "'networks.Salience.RPFC'"
      ]
     },
     "metadata": {},
     "output_type": "display_data"
    },
    {
     "data": {
      "text/plain": [
       "'networks.Salience.SMG'"
      ]
     },
     "metadata": {},
     "output_type": "display_data"
    },
    {
     "data": {
      "text/plain": [
       "'networks.Salience.SMG'"
      ]
     },
     "metadata": {},
     "output_type": "display_data"
    },
    {
     "data": {
      "text/plain": [
       "'networks.DorsalAttention.FEF'"
      ]
     },
     "metadata": {},
     "output_type": "display_data"
    },
    {
     "data": {
      "text/plain": [
       "'networks.DorsalAttention.FEF'"
      ]
     },
     "metadata": {},
     "output_type": "display_data"
    },
    {
     "data": {
      "text/plain": [
       "'networks.DorsalAttention.IPS'"
      ]
     },
     "metadata": {},
     "output_type": "display_data"
    },
    {
     "data": {
      "text/plain": [
       "'networks.DorsalAttention.IPS'"
      ]
     },
     "metadata": {},
     "output_type": "display_data"
    },
    {
     "data": {
      "text/plain": [
       "'networks.FrontoParietal.LPFC'"
      ]
     },
     "metadata": {},
     "output_type": "display_data"
    },
    {
     "data": {
      "text/plain": [
       "'networks.FrontoParietal.PPC'"
      ]
     },
     "metadata": {},
     "output_type": "display_data"
    },
    {
     "data": {
      "text/plain": [
       "'networks.FrontoParietal.LPFC'"
      ]
     },
     "metadata": {},
     "output_type": "display_data"
    },
    {
     "data": {
      "text/plain": [
       "'networks.FrontoParietal.PPC'"
      ]
     },
     "metadata": {},
     "output_type": "display_data"
    },
    {
     "data": {
      "text/plain": [
       "'networks.Language.IFG'"
      ]
     },
     "metadata": {},
     "output_type": "display_data"
    },
    {
     "data": {
      "text/plain": [
       "'networks.Language.IFG'"
      ]
     },
     "metadata": {},
     "output_type": "display_data"
    },
    {
     "data": {
      "text/plain": [
       "'networks.Language.pSTG'"
      ]
     },
     "metadata": {},
     "output_type": "display_data"
    },
    {
     "data": {
      "text/plain": [
       "'networks.Language.pSTG'"
      ]
     },
     "metadata": {},
     "output_type": "display_data"
    },
    {
     "data": {
      "text/plain": [
       "'networks.Cerebellar.Anterior'"
      ]
     },
     "metadata": {},
     "output_type": "display_data"
    },
    {
     "data": {
      "text/plain": [
       "'networks.Cerebellar.Posterior'"
      ]
     },
     "metadata": {},
     "output_type": "display_data"
    },
    {
     "data": {
      "text/plain": [
       "(182, 615)"
      ]
     },
     "metadata": {},
     "output_type": "display_data"
    },
    {
     "data": {
      "text/plain": [
       "'./timeseries_CSVs/ROI_Subject001_Session001.csv'"
      ]
     },
     "metadata": {},
     "output_type": "display_data"
    },
    {
     "data": {
      "text/plain": [
       "Index(['networks.DefaultMode.MPFC', 'networks.DefaultMode.LP',\n",
       "       'networks.DefaultMode.LP.1', 'networks.DefaultMode.PCC',\n",
       "       'networks.SensoriMotor.Lateral', 'networks.SensoriMotor.Lateral.1',\n",
       "       'networks.SensoriMotor.Superior', 'networks.Visual.Medial',\n",
       "       'networks.Visual.Occipital', 'networks.Visual.Lateral',\n",
       "       ...\n",
       "       'buckner.17Networks_8', 'buckner.17Networks_9', 'buckner.17Networks_10',\n",
       "       'buckner.17Networks_11', 'buckner.17Networks_12',\n",
       "       'buckner.17Networks_13', 'buckner.17Networks_14',\n",
       "       'buckner.17Networks_15', 'buckner.17Networks_16',\n",
       "       'buckner.17Networks_17'],\n",
       "      dtype='object', length=615)"
      ]
     },
     "metadata": {},
     "output_type": "display_data"
    }
   ],
   "source": [
    "from scipy.io import loadmat\n",
    "import os\n",
    "import pandas as pd\n",
    "import numpy as np\n",
    "from IPython.core.display import display, HTML\n",
    "\n",
    "path = './timeseries'\n",
    "files = []\n",
    "# r=root, d=directories, f = files\n",
    "for r, d, f in os.walk(path):\n",
    "    for file in f:\n",
    "        if 'ROI_Subject' in file:\n",
    "            files.append(os.path.join(r, file))\n",
    "\n",
    "for i in range(len(files)):\n",
    "    whole = loadmat(files[i])\n",
    "    names = whole['names'][0][3:]\n",
    "    for name in range(len(names)):\n",
    "        names[name] = names[name][0]\n",
    "        if \",\" in names[name]:\n",
    "            names[name] = names[name].split(\" \")[0]\n",
    "            display(names[name])\n",
    "    names = list(names)\n",
    "#     display(names)\n",
    "    data = whole['data'][0][3:]\n",
    "    for roi in range(len(data)):\n",
    "        data[roi].shape = len(data[roi])\n",
    "    data = np.asarray(list(data))\n",
    "    data = np.transpose(data)\n",
    "    display(data.shape)\n",
    "    series = pd.DataFrame(data, columns=names)\n",
    "#     display(series)\n",
    "    writename = \"./timeseries_CSVs/\" + files[i].split('/')[-1][0:-4] + \".csv\"\n",
    "    series.to_csv(writename, index=False)\n",
    "    display(writename)\n",
    "    break\n",
    "test = pd.read_csv('./timeseries_CSVs/ROI_Subject001_Session001.csv')\n",
    "display(test.columns)"
   ]
  }
 ],
 "metadata": {
  "kernelspec": {
   "display_name": "Python 3",
   "language": "python",
   "name": "python3"
  },
  "language_info": {
   "codemirror_mode": {
    "name": "ipython",
    "version": 3
   },
   "file_extension": ".py",
   "mimetype": "text/x-python",
   "name": "python",
   "nbconvert_exporter": "python",
   "pygments_lexer": "ipython3",
   "version": "3.6.9"
  }
 },
 "nbformat": 4,
 "nbformat_minor": 4
}
