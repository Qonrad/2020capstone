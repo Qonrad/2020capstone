{
 "cells": [
  {
   "cell_type": "code",
   "execution_count": 1,
   "metadata": {
    "scrolled": false
   },
   "outputs": [
    {
     "data": {
      "text/html": [
       "<div>\n",
       "<style scoped>\n",
       "    .dataframe tbody tr th:only-of-type {\n",
       "        vertical-align: middle;\n",
       "    }\n",
       "\n",
       "    .dataframe tbody tr th {\n",
       "        vertical-align: top;\n",
       "    }\n",
       "\n",
       "    .dataframe thead th {\n",
       "        text-align: right;\n",
       "    }\n",
       "</style>\n",
       "<table border=\"1\" class=\"dataframe\">\n",
       "  <thead>\n",
       "    <tr style=\"text-align: right;\">\n",
       "      <th></th>\n",
       "      <th>ID</th>\n",
       "      <th>conn_ID</th>\n",
       "    </tr>\n",
       "  </thead>\n",
       "  <tbody>\n",
       "    <tr>\n",
       "      <th>0</th>\n",
       "      <td>A00028185</td>\n",
       "      <td>1</td>\n",
       "    </tr>\n",
       "    <tr>\n",
       "      <th>1</th>\n",
       "      <td>A00032875</td>\n",
       "      <td>3</td>\n",
       "    </tr>\n",
       "    <tr>\n",
       "      <th>2</th>\n",
       "      <td>A00033747</td>\n",
       "      <td>4</td>\n",
       "    </tr>\n",
       "    <tr>\n",
       "      <th>3</th>\n",
       "      <td>A00034854</td>\n",
       "      <td>5</td>\n",
       "    </tr>\n",
       "    <tr>\n",
       "      <th>4</th>\n",
       "      <td>A00035072</td>\n",
       "      <td>6</td>\n",
       "    </tr>\n",
       "    <tr>\n",
       "      <th>...</th>\n",
       "      <td>...</td>\n",
       "      <td>...</td>\n",
       "    </tr>\n",
       "    <tr>\n",
       "      <th>133</th>\n",
       "      <td>A00066827</td>\n",
       "      <td>151</td>\n",
       "    </tr>\n",
       "    <tr>\n",
       "      <th>134</th>\n",
       "      <td>A00066926</td>\n",
       "      <td>152</td>\n",
       "    </tr>\n",
       "    <tr>\n",
       "      <th>135</th>\n",
       "      <td>A00072203</td>\n",
       "      <td>153</td>\n",
       "    </tr>\n",
       "    <tr>\n",
       "      <th>136</th>\n",
       "      <td>A00073600</td>\n",
       "      <td>154</td>\n",
       "    </tr>\n",
       "    <tr>\n",
       "      <th>137</th>\n",
       "      <td>A00073677</td>\n",
       "      <td>155</td>\n",
       "    </tr>\n",
       "  </tbody>\n",
       "</table>\n",
       "<p>138 rows × 2 columns</p>\n",
       "</div>"
      ],
      "text/plain": [
       "            ID  conn_ID\n",
       "0    A00028185        1\n",
       "1    A00032875        3\n",
       "2    A00033747        4\n",
       "3    A00034854        5\n",
       "4    A00035072        6\n",
       "..         ...      ...\n",
       "133  A00066827      151\n",
       "134  A00066926      152\n",
       "135  A00072203      153\n",
       "136  A00073600      154\n",
       "137  A00073677      155\n",
       "\n",
       "[138 rows x 2 columns]"
      ]
     },
     "metadata": {},
     "output_type": "display_data"
    }
   ],
   "source": [
    "import pandas as pd\n",
    "from IPython.core.display import display, HTML\n",
    "\n",
    "all_bids_ids = pd.read_csv(\"nfb_subset_SUBJECT_IDS.csv\")\n",
    "all_bids_ids['ID'] = all_bids_ids['ID'].str[4:]\n",
    "all_bids_ids['conn_ID'] = all_bids_ids.index + 1\n",
    "\n",
    "all_score_ids = pd.read_csv(\"events_IDs.csv\")\n",
    "\n",
    "bids_subset_ids = pd.merge(all_score_ids, all_bids_ids, how='inner', on='ID').sort_values(by=['ID']).reset_index(drop=True)\n",
    "display(bids_subset_ids)"
   ]
  },
  {
   "cell_type": "code",
   "execution_count": 2,
   "metadata": {
    "scrolled": false
   },
   "outputs": [
    {
     "data": {
      "text/plain": [
       "'A00028185'"
      ]
     },
     "metadata": {},
     "output_type": "display_data"
    },
    {
     "data": {
      "text/plain": [
       "'A00032875'"
      ]
     },
     "metadata": {},
     "output_type": "display_data"
    },
    {
     "data": {
      "text/plain": [
       "'A00033747'"
      ]
     },
     "metadata": {},
     "output_type": "display_data"
    },
    {
     "data": {
      "text/plain": [
       "'A00034854'"
      ]
     },
     "metadata": {},
     "output_type": "display_data"
    },
    {
     "data": {
      "text/plain": [
       "'A00035072'"
      ]
     },
     "metadata": {},
     "output_type": "display_data"
    },
    {
     "data": {
      "text/plain": [
       "'A00035827'"
      ]
     },
     "metadata": {},
     "output_type": "display_data"
    },
    {
     "data": {
      "text/plain": [
       "'A00035840'"
      ]
     },
     "metadata": {},
     "output_type": "display_data"
    },
    {
     "data": {
      "text/plain": [
       "'A00037112'"
      ]
     },
     "metadata": {},
     "output_type": "display_data"
    },
    {
     "data": {
      "text/plain": [
       "'A00037511'"
      ]
     },
     "metadata": {},
     "output_type": "display_data"
    },
    {
     "data": {
      "text/plain": [
       "'A00037848'"
      ]
     },
     "metadata": {},
     "output_type": "display_data"
    },
    {
     "data": {
      "text/plain": [
       "'A00038642'"
      ]
     },
     "metadata": {},
     "output_type": "display_data"
    },
    {
     "data": {
      "text/plain": [
       "'A00038998'"
      ]
     },
     "metadata": {},
     "output_type": "display_data"
    },
    {
     "data": {
      "text/plain": [
       "'A00040524'"
      ]
     },
     "metadata": {},
     "output_type": "display_data"
    },
    {
     "data": {
      "text/plain": [
       "'A00040623'"
      ]
     },
     "metadata": {},
     "output_type": "display_data"
    },
    {
     "data": {
      "text/plain": [
       "'A00040628'"
      ]
     },
     "metadata": {},
     "output_type": "display_data"
    },
    {
     "data": {
      "text/plain": [
       "'A00040640'"
      ]
     },
     "metadata": {},
     "output_type": "display_data"
    },
    {
     "data": {
      "text/plain": [
       "'A00040944'"
      ]
     },
     "metadata": {},
     "output_type": "display_data"
    },
    {
     "data": {
      "text/plain": [
       "'A00043299'"
      ]
     },
     "metadata": {},
     "output_type": "display_data"
    },
    {
     "data": {
      "text/plain": [
       "'A00043677'"
      ]
     },
     "metadata": {},
     "output_type": "display_data"
    },
    {
     "data": {
      "text/plain": [
       "'A00043704'"
      ]
     },
     "metadata": {},
     "output_type": "display_data"
    },
    {
     "data": {
      "text/plain": [
       "'A00043721'"
      ]
     },
     "metadata": {},
     "output_type": "display_data"
    },
    {
     "data": {
      "text/plain": [
       "'A00043722'"
      ]
     },
     "metadata": {},
     "output_type": "display_data"
    },
    {
     "data": {
      "text/plain": [
       "'A00043998'"
      ]
     },
     "metadata": {},
     "output_type": "display_data"
    },
    {
     "data": {
      "text/plain": [
       "'A00045590'"
      ]
     },
     "metadata": {},
     "output_type": "display_data"
    },
    {
     "data": {
      "text/plain": [
       "'A00050940'"
      ]
     },
     "metadata": {},
     "output_type": "display_data"
    },
    {
     "data": {
      "text/plain": [
       "'A00051539'"
      ]
     },
     "metadata": {},
     "output_type": "display_data"
    },
    {
     "data": {
      "text/plain": [
       "'A00051548'"
      ]
     },
     "metadata": {},
     "output_type": "display_data"
    },
    {
     "data": {
      "text/plain": [
       "'A00051676'"
      ]
     },
     "metadata": {},
     "output_type": "display_data"
    },
    {
     "data": {
      "text/plain": [
       "'A00051927'"
      ]
     },
     "metadata": {},
     "output_type": "display_data"
    },
    {
     "data": {
      "text/plain": [
       "'A00052125'"
      ]
     },
     "metadata": {},
     "output_type": "display_data"
    },
    {
     "data": {
      "text/plain": [
       "'A00052340'"
      ]
     },
     "metadata": {},
     "output_type": "display_data"
    },
    {
     "data": {
      "text/plain": [
       "'A00053455'"
      ]
     },
     "metadata": {},
     "output_type": "display_data"
    },
    {
     "data": {
      "text/plain": [
       "'A00053473'"
      ]
     },
     "metadata": {},
     "output_type": "display_data"
    },
    {
     "data": {
      "text/plain": [
       "'A00053475'"
      ]
     },
     "metadata": {},
     "output_type": "display_data"
    },
    {
     "data": {
      "text/plain": [
       "'A00053850'"
      ]
     },
     "metadata": {},
     "output_type": "display_data"
    },
    {
     "data": {
      "text/plain": [
       "'A00053851'"
      ]
     },
     "metadata": {},
     "output_type": "display_data"
    },
    {
     "data": {
      "text/plain": [
       "'A00053902'"
      ]
     },
     "metadata": {},
     "output_type": "display_data"
    },
    {
     "data": {
      "text/plain": [
       "'A00054019'"
      ]
     },
     "metadata": {},
     "output_type": "display_data"
    },
    {
     "data": {
      "text/plain": [
       "'A00054441'"
      ]
     },
     "metadata": {},
     "output_type": "display_data"
    },
    {
     "data": {
      "text/plain": [
       "'A00054504'"
      ]
     },
     "metadata": {},
     "output_type": "display_data"
    },
    {
     "data": {
      "text/plain": [
       "'A00054857'"
      ]
     },
     "metadata": {},
     "output_type": "display_data"
    },
    {
     "data": {
      "text/plain": [
       "'A00054914'"
      ]
     },
     "metadata": {},
     "output_type": "display_data"
    },
    {
     "data": {
      "text/plain": [
       "'A00055121'"
      ]
     },
     "metadata": {},
     "output_type": "display_data"
    },
    {
     "data": {
      "text/plain": [
       "'A00055373'"
      ]
     },
     "metadata": {},
     "output_type": "display_data"
    },
    {
     "data": {
      "text/plain": [
       "'A00055446'"
      ]
     },
     "metadata": {},
     "output_type": "display_data"
    },
    {
     "data": {
      "text/plain": [
       "'A00055447'"
      ]
     },
     "metadata": {},
     "output_type": "display_data"
    },
    {
     "data": {
      "text/plain": [
       "'A00055542'"
      ]
     },
     "metadata": {},
     "output_type": "display_data"
    },
    {
     "data": {
      "text/plain": [
       "'A00055738'"
      ]
     },
     "metadata": {},
     "output_type": "display_data"
    },
    {
     "data": {
      "text/plain": [
       "'A00055763'"
      ]
     },
     "metadata": {},
     "output_type": "display_data"
    },
    {
     "data": {
      "text/plain": [
       "'A00055806'"
      ]
     },
     "metadata": {},
     "output_type": "display_data"
    },
    {
     "data": {
      "text/plain": [
       "'A00056097'"
      ]
     },
     "metadata": {},
     "output_type": "display_data"
    },
    {
     "data": {
      "text/plain": [
       "'A00056452'"
      ]
     },
     "metadata": {},
     "output_type": "display_data"
    },
    {
     "data": {
      "text/plain": [
       "'A00056556'"
      ]
     },
     "metadata": {},
     "output_type": "display_data"
    },
    {
     "data": {
      "text/plain": [
       "'A00056627'"
      ]
     },
     "metadata": {},
     "output_type": "display_data"
    },
    {
     "data": {
      "text/plain": [
       "'A00056949'"
      ]
     },
     "metadata": {},
     "output_type": "display_data"
    },
    {
     "data": {
      "text/plain": [
       "'A00057005'"
      ]
     },
     "metadata": {},
     "output_type": "display_data"
    },
    {
     "data": {
      "text/plain": [
       "'A00057035'"
      ]
     },
     "metadata": {},
     "output_type": "display_data"
    },
    {
     "data": {
      "text/plain": [
       "'A00057182'"
      ]
     },
     "metadata": {},
     "output_type": "display_data"
    },
    {
     "data": {
      "text/plain": [
       "'A00057235'"
      ]
     },
     "metadata": {},
     "output_type": "display_data"
    },
    {
     "data": {
      "text/plain": [
       "'A00057372'"
      ]
     },
     "metadata": {},
     "output_type": "display_data"
    },
    {
     "data": {
      "text/plain": [
       "'A00057444'"
      ]
     },
     "metadata": {},
     "output_type": "display_data"
    },
    {
     "data": {
      "text/plain": [
       "'A00057786'"
      ]
     },
     "metadata": {},
     "output_type": "display_data"
    },
    {
     "data": {
      "text/plain": [
       "'A00057808'"
      ]
     },
     "metadata": {},
     "output_type": "display_data"
    },
    {
     "data": {
      "text/plain": [
       "'A00057965'"
      ]
     },
     "metadata": {},
     "output_type": "display_data"
    },
    {
     "data": {
      "text/plain": [
       "'A00058214'"
      ]
     },
     "metadata": {},
     "output_type": "display_data"
    },
    {
     "data": {
      "text/plain": [
       "'A00058218'"
      ]
     },
     "metadata": {},
     "output_type": "display_data"
    },
    {
     "name": "stderr",
     "output_type": "stream",
     "text": [
      "/home/rad/.local/lib/python3.6/site-packages/nitime/utils.py:2083: RuntimeWarning: divide by zero encountered in true_divide\n",
      "  return (ts / np.expand_dims(np.mean(ts, ax), ax) - 1) * 100\n",
      "/home/rad/.local/lib/python3.6/site-packages/numpy/core/_methods.py:151: RuntimeWarning: invalid value encountered in reduce\n",
      "  ret = umr_sum(arr, axis, dtype, out, keepdims)\n"
     ]
    },
    {
     "name": "stdout",
     "output_type": "stream",
     "text": [
      "an error occured that prevented causality calculation for ./timeseries_CSVs/ROI_Subject080_Session001.csv\n"
     ]
    },
    {
     "data": {
      "text/plain": [
       "'A00058552'"
      ]
     },
     "metadata": {},
     "output_type": "display_data"
    },
    {
     "data": {
      "text/plain": [
       "'A00058667'"
      ]
     },
     "metadata": {},
     "output_type": "display_data"
    },
    {
     "data": {
      "text/plain": [
       "'A00058952'"
      ]
     },
     "metadata": {},
     "output_type": "display_data"
    },
    {
     "data": {
      "text/plain": [
       "'A00058999'"
      ]
     },
     "metadata": {},
     "output_type": "display_data"
    },
    {
     "data": {
      "text/plain": [
       "'A00059344'"
      ]
     },
     "metadata": {},
     "output_type": "display_data"
    },
    {
     "data": {
      "text/plain": [
       "'A00059346'"
      ]
     },
     "metadata": {},
     "output_type": "display_data"
    },
    {
     "data": {
      "text/plain": [
       "'A00059428'"
      ]
     },
     "metadata": {},
     "output_type": "display_data"
    },
    {
     "data": {
      "text/plain": [
       "'A00059756'"
      ]
     },
     "metadata": {},
     "output_type": "display_data"
    },
    {
     "data": {
      "text/plain": [
       "'A00059845'"
      ]
     },
     "metadata": {},
     "output_type": "display_data"
    },
    {
     "data": {
      "text/plain": [
       "'A00059911'"
      ]
     },
     "metadata": {},
     "output_type": "display_data"
    },
    {
     "data": {
      "text/plain": [
       "'A00060006'"
      ]
     },
     "metadata": {},
     "output_type": "display_data"
    },
    {
     "data": {
      "text/plain": [
       "'A00060093'"
      ]
     },
     "metadata": {},
     "output_type": "display_data"
    },
    {
     "data": {
      "text/plain": [
       "'A00060169'"
      ]
     },
     "metadata": {},
     "output_type": "display_data"
    },
    {
     "data": {
      "text/plain": [
       "'A00060259'"
      ]
     },
     "metadata": {},
     "output_type": "display_data"
    },
    {
     "data": {
      "text/plain": [
       "'A00060279'"
      ]
     },
     "metadata": {},
     "output_type": "display_data"
    },
    {
     "data": {
      "text/plain": [
       "'A00060372'"
      ]
     },
     "metadata": {},
     "output_type": "display_data"
    },
    {
     "data": {
      "text/plain": [
       "'A00060407'"
      ]
     },
     "metadata": {},
     "output_type": "display_data"
    },
    {
     "data": {
      "text/plain": [
       "'A00060430'"
      ]
     },
     "metadata": {},
     "output_type": "display_data"
    },
    {
     "data": {
      "text/plain": [
       "'A00060471'"
      ]
     },
     "metadata": {},
     "output_type": "display_data"
    },
    {
     "data": {
      "text/plain": [
       "'A00060480'"
      ]
     },
     "metadata": {},
     "output_type": "display_data"
    },
    {
     "data": {
      "text/plain": [
       "'A00060516'"
      ]
     },
     "metadata": {},
     "output_type": "display_data"
    },
    {
     "name": "stdout",
     "output_type": "stream",
     "text": [
      "an error occured that prevented causality calculation for ./timeseries_CSVs/ROI_Subject102_Session001.csv\n"
     ]
    },
    {
     "data": {
      "text/plain": [
       "'A00060632'"
      ]
     },
     "metadata": {},
     "output_type": "display_data"
    },
    {
     "data": {
      "text/plain": [
       "'A00060662'"
      ]
     },
     "metadata": {},
     "output_type": "display_data"
    },
    {
     "data": {
      "text/plain": [
       "'A00060773'"
      ]
     },
     "metadata": {},
     "output_type": "display_data"
    },
    {
     "data": {
      "text/plain": [
       "'A00060848'"
      ]
     },
     "metadata": {},
     "output_type": "display_data"
    },
    {
     "data": {
      "text/plain": [
       "'A00060925'"
      ]
     },
     "metadata": {},
     "output_type": "display_data"
    },
    {
     "data": {
      "text/plain": [
       "'A00061204'"
      ]
     },
     "metadata": {},
     "output_type": "display_data"
    },
    {
     "data": {
      "text/plain": [
       "'A00061276'"
      ]
     },
     "metadata": {},
     "output_type": "display_data"
    },
    {
     "data": {
      "text/plain": [
       "'A00061387'"
      ]
     },
     "metadata": {},
     "output_type": "display_data"
    },
    {
     "name": "stdout",
     "output_type": "stream",
     "text": [
      "an error occured that prevented causality calculation for ./timeseries_CSVs/ROI_Subject111_Session001.csv\n"
     ]
    },
    {
     "data": {
      "text/plain": [
       "'A00061711'"
      ]
     },
     "metadata": {},
     "output_type": "display_data"
    },
    {
     "data": {
      "text/plain": [
       "'A00061806'"
      ]
     },
     "metadata": {},
     "output_type": "display_data"
    },
    {
     "data": {
      "text/plain": [
       "'A00062210'"
      ]
     },
     "metadata": {},
     "output_type": "display_data"
    },
    {
     "data": {
      "text/plain": [
       "'A00062248'"
      ]
     },
     "metadata": {},
     "output_type": "display_data"
    },
    {
     "data": {
      "text/plain": [
       "'A00062266'"
      ]
     },
     "metadata": {},
     "output_type": "display_data"
    },
    {
     "data": {
      "text/plain": [
       "'A00062282'"
      ]
     },
     "metadata": {},
     "output_type": "display_data"
    },
    {
     "data": {
      "text/plain": [
       "'A00062288'"
      ]
     },
     "metadata": {},
     "output_type": "display_data"
    },
    {
     "data": {
      "text/plain": [
       "'A00062351'"
      ]
     },
     "metadata": {},
     "output_type": "display_data"
    },
    {
     "data": {
      "text/plain": [
       "'A00062917'"
      ]
     },
     "metadata": {},
     "output_type": "display_data"
    },
    {
     "data": {
      "text/plain": [
       "'A00062942'"
      ]
     },
     "metadata": {},
     "output_type": "display_data"
    },
    {
     "data": {
      "text/plain": [
       "'A00063008'"
      ]
     },
     "metadata": {},
     "output_type": "display_data"
    },
    {
     "data": {
      "text/plain": [
       "'A00063103'"
      ]
     },
     "metadata": {},
     "output_type": "display_data"
    },
    {
     "data": {
      "text/plain": [
       "'A00063326'"
      ]
     },
     "metadata": {},
     "output_type": "display_data"
    },
    {
     "data": {
      "text/plain": [
       "'A00063368'"
      ]
     },
     "metadata": {},
     "output_type": "display_data"
    },
    {
     "data": {
      "text/plain": [
       "'A00063589'"
      ]
     },
     "metadata": {},
     "output_type": "display_data"
    },
    {
     "data": {
      "text/plain": [
       "'A00064081'"
      ]
     },
     "metadata": {},
     "output_type": "display_data"
    },
    {
     "data": {
      "text/plain": [
       "'A00064580'"
      ]
     },
     "metadata": {},
     "output_type": "display_data"
    },
    {
     "data": {
      "text/plain": [
       "'A00065379'"
      ]
     },
     "metadata": {},
     "output_type": "display_data"
    },
    {
     "data": {
      "text/plain": [
       "'A00065480'"
      ]
     },
     "metadata": {},
     "output_type": "display_data"
    },
    {
     "data": {
      "text/plain": [
       "'A00065617'"
      ]
     },
     "metadata": {},
     "output_type": "display_data"
    },
    {
     "data": {
      "text/plain": [
       "'A00065790'"
      ]
     },
     "metadata": {},
     "output_type": "display_data"
    },
    {
     "data": {
      "text/plain": [
       "'A00065935'"
      ]
     },
     "metadata": {},
     "output_type": "display_data"
    },
    {
     "data": {
      "text/plain": [
       "'A00065974'"
      ]
     },
     "metadata": {},
     "output_type": "display_data"
    },
    {
     "data": {
      "text/plain": [
       "'A00065991'"
      ]
     },
     "metadata": {},
     "output_type": "display_data"
    },
    {
     "data": {
      "text/plain": [
       "'A00065995'"
      ]
     },
     "metadata": {},
     "output_type": "display_data"
    },
    {
     "data": {
      "text/plain": [
       "'A00066087'"
      ]
     },
     "metadata": {},
     "output_type": "display_data"
    },
    {
     "data": {
      "text/plain": [
       "'A00066091'"
      ]
     },
     "metadata": {},
     "output_type": "display_data"
    },
    {
     "data": {
      "text/plain": [
       "'A00066232'"
      ]
     },
     "metadata": {},
     "output_type": "display_data"
    },
    {
     "data": {
      "text/plain": [
       "'A00066236'"
      ]
     },
     "metadata": {},
     "output_type": "display_data"
    },
    {
     "data": {
      "text/plain": [
       "'A00066246'"
      ]
     },
     "metadata": {},
     "output_type": "display_data"
    },
    {
     "data": {
      "text/plain": [
       "'A00066282'"
      ]
     },
     "metadata": {},
     "output_type": "display_data"
    },
    {
     "data": {
      "text/plain": [
       "'A00066735'"
      ]
     },
     "metadata": {},
     "output_type": "display_data"
    },
    {
     "data": {
      "text/plain": [
       "'A00066781'"
      ]
     },
     "metadata": {},
     "output_type": "display_data"
    },
    {
     "data": {
      "text/plain": [
       "'A00066812'"
      ]
     },
     "metadata": {},
     "output_type": "display_data"
    },
    {
     "data": {
      "text/plain": [
       "'A00066822'"
      ]
     },
     "metadata": {},
     "output_type": "display_data"
    },
    {
     "data": {
      "text/plain": [
       "'A00066827'"
      ]
     },
     "metadata": {},
     "output_type": "display_data"
    },
    {
     "data": {
      "text/plain": [
       "'A00066926'"
      ]
     },
     "metadata": {},
     "output_type": "display_data"
    },
    {
     "data": {
      "text/plain": [
       "'A00072203'"
      ]
     },
     "metadata": {},
     "output_type": "display_data"
    },
    {
     "data": {
      "text/plain": [
       "'A00073600'"
      ]
     },
     "metadata": {},
     "output_type": "display_data"
    },
    {
     "data": {
      "text/plain": [
       "'A00073677'"
      ]
     },
     "metadata": {},
     "output_type": "display_data"
    },
    {
     "data": {
      "text/plain": [
       "(135, 435)"
      ]
     },
     "metadata": {},
     "output_type": "display_data"
    },
    {
     "data": {
      "text/plain": [
       "array([[-0.07734879, -0.02326116, -0.02560404, ...,  0.00767228,\n",
       "        -0.04007535,  0.00413573],\n",
       "       [ 0.08865912, -0.02261584,  0.07958646, ..., -0.02490081,\n",
       "         0.02861762, -0.00086933],\n",
       "       [-0.03111301,  0.02363727,  0.03266378, ..., -0.00263837,\n",
       "        -0.07992016, -0.01957201],\n",
       "       ...,\n",
       "       [ 0.02504316, -0.01232973,  0.0596016 , ..., -0.099006  ,\n",
       "        -0.02734357, -0.11738239],\n",
       "       [ 0.06646207,  0.04105937,  0.10161895, ..., -0.00033607,\n",
       "        -0.05217023, -0.00462329],\n",
       "       [-0.06290784, -0.00859323,  0.04490803, ...,  0.00946496,\n",
       "         0.01304842, -0.0092119 ]])"
      ]
     },
     "metadata": {},
     "output_type": "display_data"
    },
    {
     "data": {
      "text/html": [
       "<div>\n",
       "<style scoped>\n",
       "    .dataframe tbody tr th:only-of-type {\n",
       "        vertical-align: middle;\n",
       "    }\n",
       "\n",
       "    .dataframe tbody tr th {\n",
       "        vertical-align: top;\n",
       "    }\n",
       "\n",
       "    .dataframe thead th {\n",
       "        text-align: right;\n",
       "    }\n",
       "</style>\n",
       "<table border=\"1\" class=\"dataframe\">\n",
       "  <thead>\n",
       "    <tr style=\"text-align: right;\">\n",
       "      <th></th>\n",
       "      <th>causality_val_0</th>\n",
       "      <th>causality_val_1</th>\n",
       "      <th>causality_val_2</th>\n",
       "      <th>causality_val_3</th>\n",
       "      <th>causality_val_4</th>\n",
       "      <th>causality_val_5</th>\n",
       "      <th>causality_val_6</th>\n",
       "      <th>causality_val_7</th>\n",
       "      <th>causality_val_8</th>\n",
       "      <th>causality_val_9</th>\n",
       "      <th>...</th>\n",
       "      <th>causality_val_426</th>\n",
       "      <th>causality_val_427</th>\n",
       "      <th>causality_val_428</th>\n",
       "      <th>causality_val_429</th>\n",
       "      <th>causality_val_430</th>\n",
       "      <th>causality_val_431</th>\n",
       "      <th>causality_val_432</th>\n",
       "      <th>causality_val_433</th>\n",
       "      <th>causality_val_434</th>\n",
       "      <th>ID</th>\n",
       "    </tr>\n",
       "  </thead>\n",
       "  <tbody>\n",
       "    <tr>\n",
       "      <th>0</th>\n",
       "      <td>-0.077349</td>\n",
       "      <td>-0.023261</td>\n",
       "      <td>-0.025604</td>\n",
       "      <td>-0.045863</td>\n",
       "      <td>0.026434</td>\n",
       "      <td>0.007452</td>\n",
       "      <td>-0.047753</td>\n",
       "      <td>-0.025576</td>\n",
       "      <td>-0.005988</td>\n",
       "      <td>0.022602</td>\n",
       "      <td>...</td>\n",
       "      <td>0.062982</td>\n",
       "      <td>0.089826</td>\n",
       "      <td>0.048796</td>\n",
       "      <td>0.005223</td>\n",
       "      <td>-0.005864</td>\n",
       "      <td>0.001145</td>\n",
       "      <td>0.007672</td>\n",
       "      <td>-0.040075</td>\n",
       "      <td>0.004136</td>\n",
       "      <td>A00028185</td>\n",
       "    </tr>\n",
       "    <tr>\n",
       "      <th>1</th>\n",
       "      <td>0.088659</td>\n",
       "      <td>-0.022616</td>\n",
       "      <td>0.079586</td>\n",
       "      <td>0.071261</td>\n",
       "      <td>0.050408</td>\n",
       "      <td>0.033138</td>\n",
       "      <td>0.021760</td>\n",
       "      <td>-0.020274</td>\n",
       "      <td>0.019489</td>\n",
       "      <td>0.023759</td>\n",
       "      <td>...</td>\n",
       "      <td>-0.008755</td>\n",
       "      <td>-0.026220</td>\n",
       "      <td>-0.001644</td>\n",
       "      <td>-0.006399</td>\n",
       "      <td>0.037191</td>\n",
       "      <td>0.050374</td>\n",
       "      <td>-0.024901</td>\n",
       "      <td>0.028618</td>\n",
       "      <td>-0.000869</td>\n",
       "      <td>A00032875</td>\n",
       "    </tr>\n",
       "    <tr>\n",
       "      <th>2</th>\n",
       "      <td>-0.031113</td>\n",
       "      <td>0.023637</td>\n",
       "      <td>0.032664</td>\n",
       "      <td>0.043367</td>\n",
       "      <td>-0.008001</td>\n",
       "      <td>0.091435</td>\n",
       "      <td>0.029972</td>\n",
       "      <td>-0.032429</td>\n",
       "      <td>0.032852</td>\n",
       "      <td>-0.007514</td>\n",
       "      <td>...</td>\n",
       "      <td>0.010078</td>\n",
       "      <td>-0.004546</td>\n",
       "      <td>-0.024402</td>\n",
       "      <td>0.029036</td>\n",
       "      <td>0.050541</td>\n",
       "      <td>-0.004396</td>\n",
       "      <td>-0.002638</td>\n",
       "      <td>-0.079920</td>\n",
       "      <td>-0.019572</td>\n",
       "      <td>A00033747</td>\n",
       "    </tr>\n",
       "    <tr>\n",
       "      <th>3</th>\n",
       "      <td>-0.004183</td>\n",
       "      <td>-0.012020</td>\n",
       "      <td>0.041849</td>\n",
       "      <td>0.092427</td>\n",
       "      <td>0.018554</td>\n",
       "      <td>0.020579</td>\n",
       "      <td>0.003571</td>\n",
       "      <td>0.052557</td>\n",
       "      <td>0.025421</td>\n",
       "      <td>0.008926</td>\n",
       "      <td>...</td>\n",
       "      <td>0.027165</td>\n",
       "      <td>0.002425</td>\n",
       "      <td>0.030094</td>\n",
       "      <td>0.025089</td>\n",
       "      <td>-0.001368</td>\n",
       "      <td>0.034693</td>\n",
       "      <td>-0.000109</td>\n",
       "      <td>0.007231</td>\n",
       "      <td>0.002459</td>\n",
       "      <td>A00034854</td>\n",
       "    </tr>\n",
       "    <tr>\n",
       "      <th>4</th>\n",
       "      <td>0.072271</td>\n",
       "      <td>0.137226</td>\n",
       "      <td>0.008788</td>\n",
       "      <td>0.015648</td>\n",
       "      <td>-0.026090</td>\n",
       "      <td>-0.005345</td>\n",
       "      <td>0.000281</td>\n",
       "      <td>0.144841</td>\n",
       "      <td>0.049128</td>\n",
       "      <td>-0.049018</td>\n",
       "      <td>...</td>\n",
       "      <td>-0.042693</td>\n",
       "      <td>-0.066591</td>\n",
       "      <td>-0.057090</td>\n",
       "      <td>-0.010328</td>\n",
       "      <td>-0.000321</td>\n",
       "      <td>0.007143</td>\n",
       "      <td>0.050529</td>\n",
       "      <td>-0.055297</td>\n",
       "      <td>-0.062330</td>\n",
       "      <td>A00035072</td>\n",
       "    </tr>\n",
       "    <tr>\n",
       "      <th>...</th>\n",
       "      <td>...</td>\n",
       "      <td>...</td>\n",
       "      <td>...</td>\n",
       "      <td>...</td>\n",
       "      <td>...</td>\n",
       "      <td>...</td>\n",
       "      <td>...</td>\n",
       "      <td>...</td>\n",
       "      <td>...</td>\n",
       "      <td>...</td>\n",
       "      <td>...</td>\n",
       "      <td>...</td>\n",
       "      <td>...</td>\n",
       "      <td>...</td>\n",
       "      <td>...</td>\n",
       "      <td>...</td>\n",
       "      <td>...</td>\n",
       "      <td>...</td>\n",
       "      <td>...</td>\n",
       "      <td>...</td>\n",
       "      <td>...</td>\n",
       "    </tr>\n",
       "    <tr>\n",
       "      <th>130</th>\n",
       "      <td>-0.010537</td>\n",
       "      <td>-0.119205</td>\n",
       "      <td>0.164359</td>\n",
       "      <td>0.104824</td>\n",
       "      <td>0.030145</td>\n",
       "      <td>0.050524</td>\n",
       "      <td>0.080683</td>\n",
       "      <td>-0.114272</td>\n",
       "      <td>0.071177</td>\n",
       "      <td>0.017799</td>\n",
       "      <td>...</td>\n",
       "      <td>0.012113</td>\n",
       "      <td>-0.001119</td>\n",
       "      <td>-0.013332</td>\n",
       "      <td>0.011915</td>\n",
       "      <td>0.014101</td>\n",
       "      <td>0.001365</td>\n",
       "      <td>0.091827</td>\n",
       "      <td>0.271688</td>\n",
       "      <td>-0.080699</td>\n",
       "      <td>A00066827</td>\n",
       "    </tr>\n",
       "    <tr>\n",
       "      <th>131</th>\n",
       "      <td>0.089834</td>\n",
       "      <td>-0.211455</td>\n",
       "      <td>0.129028</td>\n",
       "      <td>0.131857</td>\n",
       "      <td>0.079990</td>\n",
       "      <td>0.143362</td>\n",
       "      <td>0.062040</td>\n",
       "      <td>-0.010379</td>\n",
       "      <td>0.124708</td>\n",
       "      <td>0.119515</td>\n",
       "      <td>...</td>\n",
       "      <td>-0.046567</td>\n",
       "      <td>-0.001347</td>\n",
       "      <td>-0.076139</td>\n",
       "      <td>0.016900</td>\n",
       "      <td>0.013151</td>\n",
       "      <td>-0.008062</td>\n",
       "      <td>-0.016252</td>\n",
       "      <td>-0.072384</td>\n",
       "      <td>-0.063142</td>\n",
       "      <td>A00066926</td>\n",
       "    </tr>\n",
       "    <tr>\n",
       "      <th>132</th>\n",
       "      <td>0.025043</td>\n",
       "      <td>-0.012330</td>\n",
       "      <td>0.059602</td>\n",
       "      <td>0.053493</td>\n",
       "      <td>0.027894</td>\n",
       "      <td>-0.008468</td>\n",
       "      <td>0.111642</td>\n",
       "      <td>0.005033</td>\n",
       "      <td>0.054174</td>\n",
       "      <td>0.005557</td>\n",
       "      <td>...</td>\n",
       "      <td>-0.012288</td>\n",
       "      <td>-0.001448</td>\n",
       "      <td>-0.013442</td>\n",
       "      <td>-0.036616</td>\n",
       "      <td>-0.029410</td>\n",
       "      <td>-0.016839</td>\n",
       "      <td>-0.099006</td>\n",
       "      <td>-0.027344</td>\n",
       "      <td>-0.117382</td>\n",
       "      <td>A00072203</td>\n",
       "    </tr>\n",
       "    <tr>\n",
       "      <th>133</th>\n",
       "      <td>0.066462</td>\n",
       "      <td>0.041059</td>\n",
       "      <td>0.101619</td>\n",
       "      <td>0.142323</td>\n",
       "      <td>0.304159</td>\n",
       "      <td>0.042322</td>\n",
       "      <td>0.066828</td>\n",
       "      <td>0.025737</td>\n",
       "      <td>0.126047</td>\n",
       "      <td>0.347869</td>\n",
       "      <td>...</td>\n",
       "      <td>0.043359</td>\n",
       "      <td>0.077157</td>\n",
       "      <td>0.019901</td>\n",
       "      <td>0.057452</td>\n",
       "      <td>0.095673</td>\n",
       "      <td>0.033148</td>\n",
       "      <td>-0.000336</td>\n",
       "      <td>-0.052170</td>\n",
       "      <td>-0.004623</td>\n",
       "      <td>A00073600</td>\n",
       "    </tr>\n",
       "    <tr>\n",
       "      <th>134</th>\n",
       "      <td>-0.062908</td>\n",
       "      <td>-0.008593</td>\n",
       "      <td>0.044908</td>\n",
       "      <td>-0.007697</td>\n",
       "      <td>-0.015079</td>\n",
       "      <td>-0.015736</td>\n",
       "      <td>-0.007949</td>\n",
       "      <td>0.004802</td>\n",
       "      <td>-0.000620</td>\n",
       "      <td>-0.032764</td>\n",
       "      <td>...</td>\n",
       "      <td>-0.027974</td>\n",
       "      <td>-0.064255</td>\n",
       "      <td>-0.030805</td>\n",
       "      <td>-0.011496</td>\n",
       "      <td>0.005508</td>\n",
       "      <td>-0.013101</td>\n",
       "      <td>0.009465</td>\n",
       "      <td>0.013048</td>\n",
       "      <td>-0.009212</td>\n",
       "      <td>A00073677</td>\n",
       "    </tr>\n",
       "  </tbody>\n",
       "</table>\n",
       "<p>135 rows × 436 columns</p>\n",
       "</div>"
      ],
      "text/plain": [
       "     causality_val_0  causality_val_1  causality_val_2  causality_val_3  \\\n",
       "0          -0.077349        -0.023261        -0.025604        -0.045863   \n",
       "1           0.088659        -0.022616         0.079586         0.071261   \n",
       "2          -0.031113         0.023637         0.032664         0.043367   \n",
       "3          -0.004183        -0.012020         0.041849         0.092427   \n",
       "4           0.072271         0.137226         0.008788         0.015648   \n",
       "..               ...              ...              ...              ...   \n",
       "130        -0.010537        -0.119205         0.164359         0.104824   \n",
       "131         0.089834        -0.211455         0.129028         0.131857   \n",
       "132         0.025043        -0.012330         0.059602         0.053493   \n",
       "133         0.066462         0.041059         0.101619         0.142323   \n",
       "134        -0.062908        -0.008593         0.044908        -0.007697   \n",
       "\n",
       "     causality_val_4  causality_val_5  causality_val_6  causality_val_7  \\\n",
       "0           0.026434         0.007452        -0.047753        -0.025576   \n",
       "1           0.050408         0.033138         0.021760        -0.020274   \n",
       "2          -0.008001         0.091435         0.029972        -0.032429   \n",
       "3           0.018554         0.020579         0.003571         0.052557   \n",
       "4          -0.026090        -0.005345         0.000281         0.144841   \n",
       "..               ...              ...              ...              ...   \n",
       "130         0.030145         0.050524         0.080683        -0.114272   \n",
       "131         0.079990         0.143362         0.062040        -0.010379   \n",
       "132         0.027894        -0.008468         0.111642         0.005033   \n",
       "133         0.304159         0.042322         0.066828         0.025737   \n",
       "134        -0.015079        -0.015736        -0.007949         0.004802   \n",
       "\n",
       "     causality_val_8  causality_val_9  ...  causality_val_426  \\\n",
       "0          -0.005988         0.022602  ...           0.062982   \n",
       "1           0.019489         0.023759  ...          -0.008755   \n",
       "2           0.032852        -0.007514  ...           0.010078   \n",
       "3           0.025421         0.008926  ...           0.027165   \n",
       "4           0.049128        -0.049018  ...          -0.042693   \n",
       "..               ...              ...  ...                ...   \n",
       "130         0.071177         0.017799  ...           0.012113   \n",
       "131         0.124708         0.119515  ...          -0.046567   \n",
       "132         0.054174         0.005557  ...          -0.012288   \n",
       "133         0.126047         0.347869  ...           0.043359   \n",
       "134        -0.000620        -0.032764  ...          -0.027974   \n",
       "\n",
       "     causality_val_427  causality_val_428  causality_val_429  \\\n",
       "0             0.089826           0.048796           0.005223   \n",
       "1            -0.026220          -0.001644          -0.006399   \n",
       "2            -0.004546          -0.024402           0.029036   \n",
       "3             0.002425           0.030094           0.025089   \n",
       "4            -0.066591          -0.057090          -0.010328   \n",
       "..                 ...                ...                ...   \n",
       "130          -0.001119          -0.013332           0.011915   \n",
       "131          -0.001347          -0.076139           0.016900   \n",
       "132          -0.001448          -0.013442          -0.036616   \n",
       "133           0.077157           0.019901           0.057452   \n",
       "134          -0.064255          -0.030805          -0.011496   \n",
       "\n",
       "     causality_val_430  causality_val_431  causality_val_432  \\\n",
       "0            -0.005864           0.001145           0.007672   \n",
       "1             0.037191           0.050374          -0.024901   \n",
       "2             0.050541          -0.004396          -0.002638   \n",
       "3            -0.001368           0.034693          -0.000109   \n",
       "4            -0.000321           0.007143           0.050529   \n",
       "..                 ...                ...                ...   \n",
       "130           0.014101           0.001365           0.091827   \n",
       "131           0.013151          -0.008062          -0.016252   \n",
       "132          -0.029410          -0.016839          -0.099006   \n",
       "133           0.095673           0.033148          -0.000336   \n",
       "134           0.005508          -0.013101           0.009465   \n",
       "\n",
       "     causality_val_433  causality_val_434         ID  \n",
       "0            -0.040075           0.004136  A00028185  \n",
       "1             0.028618          -0.000869  A00032875  \n",
       "2            -0.079920          -0.019572  A00033747  \n",
       "3             0.007231           0.002459  A00034854  \n",
       "4            -0.055297          -0.062330  A00035072  \n",
       "..                 ...                ...        ...  \n",
       "130           0.271688          -0.080699  A00066827  \n",
       "131          -0.072384          -0.063142  A00066926  \n",
       "132          -0.027344          -0.117382  A00072203  \n",
       "133          -0.052170          -0.004623  A00073600  \n",
       "134           0.013048          -0.009212  A00073677  \n",
       "\n",
       "[135 rows x 436 columns]"
      ]
     },
     "metadata": {},
     "output_type": "display_data"
    }
   ],
   "source": [
    "\"\"\"\n",
    "\n",
    ".. gc-fmri\n",
    "\n",
    "================================\n",
    "Granger 'causality' of fMRI data\n",
    "================================\n",
    "\n",
    "Granger 'causality' analysis provides an asymmetric measure of the coupling\n",
    "between two time-series. When discussing this analysis method, we will put the\n",
    "word 'causality' in single quotes, as we believe that use of this word outside\n",
    "of quotes should be reserved for particular circumstances, often not fulfilled\n",
    "in the analysis of simultaneously recorder neuroscientific time-series (see\n",
    "[Pearl2009]_ for an extensive discussion of this distinction).\n",
    "\n",
    "The central idea behind this analysis is that time-series can be described in\n",
    "terms of a time-delayed auto-regressive model of the form:\n",
    "\n",
    ".. math::\n",
    "\n",
    "   x_t = \\sum_{i=1}^{n}a_i x_{t-i} + \\epsilon_t\n",
    "\n",
    "Here, the past behaviour of a single time-series is used in order to predict\n",
    "the current value of the time-series. In Granger 'causality' analysis, we test\n",
    "whether the addition of a prediction of the time-series from another\n",
    "time-series through a multivariate auto-regressive model may improve our\n",
    "prediction of the present behavior of the time-series (reducing the value of\n",
    "the error term $\\epsilon_t$):\n",
    "\n",
    ".. math::\n",
    "\n",
    "   x_t = \\sum_{i=1}^{n}(a_i x_{t-i} + b_i y_{t-i}) + \\epsilon_t\n",
    "\n",
    "\n",
    "In our implementation of the algorithms used for this analysis, we follow\n",
    "closely the description put forth by Ding et al. ([Ding2006]_). Also, see\n",
    ":ref:`mar` and :ref:`ar` for examples even more closely modeled on the\n",
    "examples mentioned in their paper.\n",
    "\n",
    "Here, we will demonstrate the use of Granger 'causality' analysis with fMRI\n",
    "data. The data is provided as part of the distribution and is taken from a\n",
    "'resting state' scan. The data was motion corrected and averaged from several\n",
    "ROIs.\n",
    "\n",
    "We start by importing the needed modules:\n",
    "\n",
    "\"\"\"\n",
    "\n",
    "import os\n",
    "\n",
    "import numpy as np\n",
    "import matplotlib.pyplot as plt\n",
    "\n",
    "import nitime\n",
    "import nitime.analysis as nta\n",
    "import nitime.timeseries as ts\n",
    "import nitime.utils as tsu\n",
    "from nitime.viz import drawmatrix_channels\n",
    "\n",
    "from IPython.core.display import display, HTML\n",
    "\n",
    "\"\"\"\n",
    "We then define a few parameters of the data: the TR and the bounds on the\n",
    "frequency band of interest.\n",
    "\"\"\"\n",
    "\n",
    "TR = 2.00\n",
    "f_ub = 0.15\n",
    "f_lb = 0.02\n",
    "\n",
    "path = './timeseries_CSVs'\n",
    "files = []\n",
    "# r=root, d=directories, f = files\n",
    "for r, d, f in os.walk(path):\n",
    "    for file in f:\n",
    "        if 'ROI_Subject' in file:\n",
    "            files.append(os.path.join(r, file))\n",
    "X = np.array([np.zeros(435)]) #quite possibly unnecessarily complicated, unsure how to do this\n",
    "names = []\n",
    "for fnum in range(len(files)):\n",
    "    if int(files[fnum][29:32]) in bids_subset_ids.conn_ID.values:\n",
    "#         print(files[fnum][29:32])\n",
    "        data_rec = np.genfromtxt(files[fnum], dtype=float, delimiter=',', names=True)\n",
    "\n",
    "        roi_names = np.array(data_rec.dtype.names)\n",
    "        nseq = len(roi_names)\n",
    "        n_samples = data_rec.shape[0]\n",
    "        data = np.zeros((nseq, n_samples))\n",
    "\n",
    "        for n_idx, roi in enumerate(roi_names):\n",
    "            data[n_idx] = data_rec[roi]\n",
    "    #     display(data.shape)\n",
    "    #     if np.isnan(data).any() or np.isinf(data).any():\n",
    "    #         display(fnum)\n",
    "        \"\"\"\n",
    "        We normalize the data in each of the ROIs to be in units of % change and\n",
    "        initialize the TimeSeries object:\n",
    "        \"\"\"\n",
    "        pdata = tsu.percent_change(data)\n",
    "        time_series = ts.TimeSeries(pdata, sampling_interval=TR)\n",
    "        \"\"\"\n",
    "        We initialize the GrangerAnalyzer object, while specifying the order of the\n",
    "        autoregressive model to be 1 (predict the current behavior of the time-series\n",
    "        based on one time-point back).\n",
    "        \"\"\"\n",
    "        G = nta.GrangerAnalyzer(time_series, order=1)\n",
    "        \"\"\"\n",
    "        We are only interested in the physiologically relevant frequency band\n",
    "        (approximately 0.02 to 0.15 Hz).\n",
    "\n",
    "        The spectral resolution is different in these two different analyzers. In the\n",
    "        CoherenceAnalyzer, the spectral resolution depends on the size of the window\n",
    "        used for calculating the spectral density and cross-spectrum, whereas in the\n",
    "        GrangerAnalyzer it is derived, as determined by the user, from the MAR model\n",
    "        used.\n",
    "\n",
    "        For this reason, the indices used to access the relevant part of the spectrum\n",
    "        will be different in the different analyzers.\n",
    "        \"\"\"\n",
    "        freq_idx_G = np.where((G.frequencies > f_lb) * (G.frequencies < f_ub))[0]\n",
    "        try:\n",
    "            y_minus_x = np.mean(G.causality_xy[:, :, freq_idx_G] - G.causality_yx[:, :, freq_idx_G], -1)\n",
    "            y_minus_x = y_minus_x[np.logical_not(np.isnan(y_minus_x))]\n",
    "            temp = np.expand_dims(y_minus_x, axis=0)\n",
    "            X = np.concatenate((X, temp), axis=0)\n",
    "            display(bids_subset_ids.loc[bids_subset_ids['conn_ID'] == int(files[fnum][29:32])]['ID'].values[0])\n",
    "            names += [bids_subset_ids.loc[bids_subset_ids['conn_ID'] == int(files[fnum][29:32])]['ID'].values[0]]\n",
    "        except:\n",
    "            print(\"an error occured that prevented causality calculation for\", files[fnum])\n",
    "X = X[1:]\n",
    "# X = np.transpose(X)\n",
    "display(X.shape)\n",
    "causality_columns = []\n",
    "for c in range(len(X[0])):\n",
    "    causality_columns += ['causality_val_' + str(c)]\n",
    "display(X)\n",
    "causality_df = pd.DataFrame(X, columns=causality_columns)\n",
    "causality_df['ID'] = names\n",
    "display(causality_df)\n",
    "causality_df.to_csv(\"granger.csv\", index=False)\n",
    "# need to put all causality values in a single array and save it to npy file\n",
    "# probably need to make an empty array of the correct size first, as in read_matrices.ipynb"
   ]
  },
  {
   "cell_type": "raw",
   "metadata": {},
   "source": [
    "for i in range(len(g2)):\n",
    "        for j in range(len(g2[i])):\n",
    "            if np.isnan(g2[i][j]):\n",
    "                if i == j:\n",
    "                    g2[i][j] = 1.0\n",
    "                else:\n",
    "                    g2[i][j] = g2[j][i]\n",
    "# fig04 = drawmatrix_channels(g2, roi_names, size=[10., 10.], color_anchor=0)\n",
    "\n",
    "\"\"\"\n",
    "If these values are found to be significantly different than 0, this\n",
    "constitutes evidence for a correlation with a time-lag between the\n",
    "regions. This is a necessary (though not necessarily sufficient...) condition\n",
    "for establishing functional connectivity between the regions.\n",
    "\n",
    "Finally, we call plt.show(), to show the plots created:\n",
    "\n",
    "\"\"\"\n",
    "\n",
    "# plt.show()"
   ]
  }
 ],
 "metadata": {
  "kernelspec": {
   "display_name": "Python 3",
   "language": "python",
   "name": "python3"
  },
  "language_info": {
   "codemirror_mode": {
    "name": "ipython",
    "version": 3
   },
   "file_extension": ".py",
   "mimetype": "text/x-python",
   "name": "python",
   "nbconvert_exporter": "python",
   "pygments_lexer": "ipython3",
   "version": "3.6.9"
  }
 },
 "nbformat": 4,
 "nbformat_minor": 4
}
