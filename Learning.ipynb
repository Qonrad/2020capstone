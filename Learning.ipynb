{
 "cells": [
  {
   "cell_type": "code",
   "execution_count": null,
   "metadata": {},
   "outputs": [
    {
     "name": "stdout",
     "output_type": "stream",
     "text": [
      "Fitting 5 folds for each of 3 candidates, totalling 15 fits\n"
     ]
    },
    {
     "name": "stderr",
     "output_type": "stream",
     "text": [
      "[Parallel(n_jobs=-1)]: Using backend LokyBackend with 6 concurrent workers.\n",
      "[Parallel(n_jobs=-1)]: Done   1 tasks      | elapsed:  5.3min\n",
      "[Parallel(n_jobs=-1)]: Done   6 out of  15 | elapsed:  5.6min remaining:  8.4min\n",
      "[Parallel(n_jobs=-1)]: Done   8 out of  15 | elapsed: 10.9min remaining:  9.5min\n",
      "[Parallel(n_jobs=-1)]: Done  10 out of  15 | elapsed: 11.0min remaining:  5.5min\n",
      "[Parallel(n_jobs=-1)]: Done  12 out of  15 | elapsed: 11.0min remaining:  2.7min\n",
      "[Parallel(n_jobs=-1)]: Done  15 out of  15 | elapsed: 15.7min finished\n",
      "/home/rad/.local/lib/python3.6/site-packages/sklearn/model_selection/_search.py:823: FutureWarning: The parameter 'iid' is deprecated in 0.22 and will be removed in 0.24.\n",
      "  \"removed in 0.24.\", FutureWarning\n"
     ]
    }
   ],
   "source": [
    "from sklearn.feature_selection import SelectKBest, mutual_info_regression\n",
    "import pandas as pd\n",
    "import numpy as np\n",
    "from sklearn import preprocessing\n",
    "from sklearn.model_selection import train_test_split\n",
    "from sklearn.model_selection import GridSearchCV\n",
    "from sklearn.metrics import r2_score\n",
    "from sklearn.svm import SVR\n",
    "from sklearn.pipeline import Pipeline\n",
    "from sklearn.preprocessing import OneHotEncoder\n",
    "INCLUDE_MATRICES_AT_END = True\n",
    "\n",
    "y = np.load(\"dependent.npy\")\n",
    "X = np.load(\"connectomes.npy\")\n",
    "\n",
    "#scaling features\n",
    "scaler = preprocessing.StandardScaler().fit(X)\n",
    "X = scaler.transform(X)\n",
    "\n",
    "# Split the dataset in two parts\n",
    "X_train, X_test, y_train, y_test = train_test_split(\n",
    "    X, y, test_size=0.15)\n",
    "\n",
    "# Set the parameters by cross-validation\n",
    "feats = len(X[0])\n",
    "subs = len(y)\n",
    "\n",
    "pipe = Pipeline([\n",
    "    # the reduce_dim stage is populated by the param_grid\n",
    "    ('reduce_dim', SelectKBest(mutual_info_regression)),\n",
    "    ('svr', SVR(verbose=10))\n",
    "])\n",
    "\n",
    "#setting feature_selection params appropriately\n",
    "if INCLUDE_MATRICES_AT_END:\n",
    "    N_FEATURES_OPTIONS = [100]\n",
    "else:\n",
    "    N_FEATURES_OPTIONS = [5, \"all\"]\n",
    "\n",
    "C_OPTIONS = [0.0001, 0.001, 0.1]\n",
    "C_OPTIONS.reverse()\n",
    "param_grid = [\n",
    "    {\n",
    "        'reduce_dim__k': N_FEATURES_OPTIONS,\n",
    "        'svr__kernel': ['linear'],\n",
    "        'svr__C': C_OPTIONS\n",
    "    }\n",
    "]\n",
    "\n",
    "grid = GridSearchCV(pipe, cv=5, n_jobs=-1, param_grid=param_grid, iid=False, verbose=10)\n",
    "grid.fit(X_train, y_train)\n",
    "\n",
    "print(\"Best parameters set found on development set:\")\n",
    "print()\n",
    "print(grid.best_params_)\n",
    "print()\n",
    "print(\"Grid scores on development set:\")\n",
    "print()\n",
    "means = grid.cv_results_['mean_test_score']\n",
    "stds = grid.cv_results_['std_test_score']\n",
    "for mean, std, params in zip(means, stds, grid.cv_results_['params']):\n",
    "    print(\"%0.3f (+/-%0.03f) for %r\"\n",
    "          % (mean, std * 2, params))\n",
    "print()\n",
    "\n",
    "print(\"Detailed classification report:\")\n",
    "print()\n",
    "print(\"The model is trained on\", len(y_train), \"subjects.\")\n",
    "print(\"The scores are computed on\", len(y_test), \"subjects.\")\n",
    "print()\n",
    "y_true, y_pred = y_test, grid.predict(X_test)\n",
    "print(r2_score(y_true, y_pred))\n"
   ]
  }
 ],
 "metadata": {
  "kernelspec": {
   "display_name": "Python 3",
   "language": "python",
   "name": "python3"
  },
  "language_info": {
   "codemirror_mode": {
    "name": "ipython",
    "version": 3
   },
   "file_extension": ".py",
   "mimetype": "text/x-python",
   "name": "python",
   "nbconvert_exporter": "python",
   "pygments_lexer": "ipython3",
   "version": "3.6.9"
  }
 },
 "nbformat": 4,
 "nbformat_minor": 2
}
